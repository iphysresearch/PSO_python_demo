{
 "cells": [
  {
   "cell_type": "code",
   "execution_count": null,
   "metadata": {},
   "outputs": [],
   "source": [
    "import numpy as np\n",
    "import scipy.io as scio # load mat file\n",
    "from scipy.signal import welch, filtfilt\n",
    "from scipy.interpolate import interp1d\n",
    "\n",
    "from PSO import *  # demo PSO codes!\n",
    "\n",
    "import matplotlib.pyplot as plt"
   ]
  },
  {
   "cell_type": "code",
   "execution_count": null,
   "metadata": {},
   "outputs": [],
   "source": [
    "# load data\n",
    "TrainingData = scio.loadmat('TrainingData.mat')\n",
    "analysisData = scio.loadmat('analysisData.mat')\n",
    "\n",
    "## Preparing\n",
    "dataY = analysisData['dataVec'][0] # (2048,)\n",
    "# Data length\n",
    "nSamples = dataY.size # 2048\n",
    "# Sampling frequency\n",
    "Fs = analysisData['sampFreq'][0,0] # 1024\n",
    "\n",
    "# Search range of phase coefficients\n",
    "rmin = [40, 1, 1]\n",
    "rmax = [100, 50, 15]\n",
    "\n",
    "# Noise realization: PSD estimated from TrainingData\n",
    "dt = 1/Fs\n",
    "t = np.arange(0, nSamples*dt, dt) # (2048,)\n",
    "T = nSamples/Fs\n",
    "df = 1/T\n",
    "Nyq = Fs/2 # Nyquist frequency\n",
    "f = np.arange(0, Nyq+df, df) # Not used...(Herb)\n",
    "[f, pxx] = welch(TrainingData['trainData'][0], fs=Fs, \n",
    "                 window='hamming', nperseg=Fs/2, \n",
    "                 noverlap=None, nfft=None, \n",
    "                 detrend=False) \n",
    "# Why 'detrend=False'? \n",
    "# See https://github.com/scipy/scipy/issues/8045#issuecomment-337319294\n",
    "# or https://iphysresearch.github.io/blog/post/signal_processing/spectral_analysis_scipy/\n",
    "\n",
    "# Smooth the PSD estimate\n",
    "smthOrdr = 10\n",
    "b = np.ones(smthOrdr)/smthOrdr\n",
    "pxxSmth = filtfilt(b,1,pxx)\n",
    "# PSD must be supplied at DFT frequencies.\n",
    "kNyq = np.floor(nSamples/2) + 1\n",
    "posFreq = np.arange(0, kNyq)*Fs/nSamples\n",
    "psdPosFreq = interp1d(f,pxxSmth)(posFreq)"
   ]
  },
  {
   "cell_type": "code",
   "execution_count": null,
   "metadata": {},
   "outputs": [],
   "source": [
    "# Plot PSDs for the noise and noise + signal.\n",
    "plt.figure(dpi=100)\n",
    "plt.plot(f,pxx, label='noise')\n",
    "plt.plot(f,pxxSmth, label='noise (smoth)')\n",
    "[f, pxxY] = welch(dataY, fs=Fs, \n",
    "                 window='hamming', nperseg=256, \n",
    "                 noverlap=None, nfft=None, \n",
    "                 detrend=False)\n",
    "plt.plot(f,pxxY, label='noise + signal')\n",
    "plt.xlabel('Frequency (Hz)')\n",
    "plt.ylabel('PSD')\n",
    "plt.legend()\n",
    "plt.savefig('output_psd.png', dpi=100)\n",
    "plt.show()"
   ]
  },
  {
   "cell_type": "code",
   "execution_count": null,
   "metadata": {},
   "outputs": [],
   "source": [
    "# Number of independent PSO runs\n",
    "nRuns = 8"
   ]
  },
  {
   "cell_type": "code",
   "execution_count": null,
   "metadata": {},
   "outputs": [],
   "source": [
    "## PSO\n",
    "# Input parameters for CRCBQCHRPPSO\n",
    "inParams = {\n",
    "    'dataX': t,\n",
    "    'dataY': dataY,\n",
    "    'dataXSq': t**2,\n",
    "    'dataXCb': t**3,\n",
    "    'psdPosFreq': psdPosFreq,\n",
    "    'sampFreq': Fs,\n",
    "    'rmin': rmin,\n",
    "    'rmax': rmax,\n",
    "}\n",
    "# CRCBQCHRPPSOPSD runs PSO on the CRCBQCHRPFITFUNC fitness function. As an\n",
    "# illustration of usage, we change one of the PSO parameters from its\n",
    "# default value.\n",
    "outResults, outStruct = crcbqcpsopsd(inParams, {'maxSteps': 2000}, nRuns)"
   ]
  },
  {
   "cell_type": "code",
   "execution_count": null,
   "metadata": {},
   "outputs": [],
   "source": [
    "print('Estimated parameters: a1={}; a2={}; a3={}'.format(outResults['bestQcCoefs'][0],\n",
    "                                                         outResults['bestQcCoefs'][1],\n",
    "                                                         outResults['bestQcCoefs'][2]))\n",
    "np.save('output_results',outResults)\n",
    "np.save('output_struct',output_struct)"
   ]
  }
 ],
 "metadata": {
  "kernelspec": {
   "display_name": "Python 3",
   "language": "python",
   "name": "python3"
  },
  "language_info": {
   "codemirror_mode": {
    "name": "ipython",
    "version": 3
   },
   "file_extension": ".py",
   "mimetype": "text/x-python",
   "name": "python",
   "nbconvert_exporter": "python",
   "pygments_lexer": "ipython3",
   "version": "3.7.3"
  }
 },
 "nbformat": 4,
 "nbformat_minor": 4
}
